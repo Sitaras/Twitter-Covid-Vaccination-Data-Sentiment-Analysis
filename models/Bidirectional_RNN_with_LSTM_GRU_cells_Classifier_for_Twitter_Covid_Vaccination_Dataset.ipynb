{
  "cells": [
    {
      "cell_type": "markdown",
      "source": [
        "# Artificial Intelligence II - Homework 3\n",
        "---\n",
        "###Δημήτριος Σιταράς | 1115201800178\n",
        "---"
      ],
      "metadata": {
        "id": "1PpUPAilr_Eo"
      }
    },
    {
      "cell_type": "markdown",
      "source": [
        "## Libraries n' Functions "
      ],
      "metadata": {
        "id": "2qa3gMLZsB0r"
      }
    },
    {
      "cell_type": "code",
      "execution_count": null,
      "metadata": {
        "id": "RkiJhicyP1GQ"
      },
      "outputs": [],
      "source": [
        "import torch\n",
        "import torch.nn as nn\n",
        "import torch.optim as optim\n",
        "import os\n",
        "import pandas as pd\n",
        "import numpy as np\n",
        "import matplotlib.pyplot as plt\n",
        "%matplotlib inline\n",
        "import sklearn.metrics\n",
        "import random\n",
        "import sys\n",
        "from torchtext import data\n",
        "from sklearn.metrics import roc_curve, roc_auc_score,auc\n",
        "from sklearn.preprocessing import label_binarize\n",
        "from itertools import cycle\n",
        "\n",
        "!pip install tweet-preprocessor\n",
        "\n",
        "def set_seed(seed = 1234):\n",
        "    '''Sets the seed of the entire notebook so results are the same every time we run.\n",
        "    This is for REPRODUCIBILITY.'''\n",
        "    np.random.seed(seed)\n",
        "    random.seed(seed)\n",
        "    torch.manual_seed(seed)\n",
        "    torch.cuda.manual_seed(seed)\n",
        "    # When running on the CuDNN backend, two further options must be set\n",
        "    torch.backends.cudnn.deterministic = True\n",
        "    # Set a fixed value for the hash seed\n",
        "    os.environ['PYTHONHASHSEED'] = str(seed)\n",
        "    \n",
        "set_seed()"
      ]
    },
    {
      "cell_type": "code",
      "execution_count": 2,
      "metadata": {
        "id": "hdmNgV_27TAB"
      },
      "outputs": [],
      "source": [
        "def lossCurve(trainLosses,valLosses):\n",
        "  plt.plot(trainLosses, color=\"r\")\n",
        "  plt.plot(valLosses, color=\"g\")\n",
        "  plt.ylabel('Loss')\n",
        "  plt.xlabel('Epochs')\n",
        "  plt.legend(['Train Loss','Validation Loss'])\n",
        "  plt.show()"
      ]
    },
    {
      "cell_type": "code",
      "source": [
        "def rocCurve(validation_prediction,yValidation):\n",
        "  fpr = dict()\n",
        "  tpr = dict()\n",
        "  roc_auc = dict()\n",
        "  n_classes=3\n",
        "  validationPrediction=validation_prediction.detach().numpy()\n",
        "  yLabelsBin = label_binarize(yValidation, classes=[0,1,2])\n",
        "  for i in range(n_classes):\n",
        "      fpr[i], tpr[i], _ = roc_curve(yLabelsBin[:,i], validationPrediction[:,i])\n",
        "      roc_auc[i] = auc(fpr[i], tpr[i])\n",
        "  lw = 2\n",
        "  colors = cycle([\"aqua\", \"darkorange\", \"cornflowerblue\"])\n",
        "  for i, color in zip(range(n_classes), colors):\n",
        "      plt.plot(\n",
        "          fpr[i],\n",
        "          tpr[i],\n",
        "          color=color,\n",
        "          lw=lw,\n",
        "          label=\"ROC curve of class {0} (area = {1:0.2f})\".format(i, roc_auc[i]),\n",
        "      )\n",
        "\n",
        "  plt.plot([0, 1], [0, 1], \"k--\", lw=lw)\n",
        "  plt.xlim([0.0, 1.0])\n",
        "  plt.ylim([0.0, 1.05])\n",
        "  plt.xlabel(\"False Positive Rate\")\n",
        "  plt.ylabel(\"True Positive Rate\")\n",
        "  plt.legend(loc=\"lower right\")\n",
        "  plt.show()"
      ],
      "metadata": {
        "id": "_rrp1gw86QbK"
      },
      "execution_count": 3,
      "outputs": []
    },
    {
      "cell_type": "code",
      "execution_count": 4,
      "metadata": {
        "colab": {
          "base_uri": "https://localhost:8080/"
        },
        "id": "x9AhGyXgljWE",
        "outputId": "d41879a4-8817-4351-d4c0-546e25611ee8"
      },
      "outputs": [
        {
          "output_type": "stream",
          "name": "stdout",
          "text": [
            "[nltk_data] Downloading package wordnet to /root/nltk_data...\n",
            "[nltk_data]   Package wordnet is already up-to-date!\n"
          ]
        }
      ],
      "source": [
        "import string\n",
        "import re\n",
        "import nltk\n",
        "from nltk.stem.snowball import SnowballStemmer\n",
        "from nltk.stem import WordNetLemmatizer\n",
        "import preprocessor as p\n",
        "nltk.download('wordnet')\n",
        "\n",
        "def cleaning(text):\n",
        "    # used to clean urls, mentions (with @), emojis, punctuation marks and all the other symbols that exist\n",
        "    p.set_options(p.OPT.URL,p.OPT.MENTION)\n",
        "    text = p.clean(text)\n",
        "    return ' '.join(re.sub(\"(@[A-Za-z0-9]+)|([^0-9A-Za-z \\t])|(\\w+:\\/\\/\\S+)\", \"\", text).split())\n",
        "\n",
        "def stemming(text):\n",
        "    # used to reduce the inflection in words to their root \n",
        "    # SnowBallStemmer used for this job\n",
        "    SnowStemmer = SnowballStemmer(\"english\")\n",
        "    stemmedΤokens = [SnowStemmer.stem(token) for token in text.split()]\n",
        "    return ' '.join(stemmedΤokens)\n",
        "\n",
        "def lemmatization(text):\n",
        "    # used to remove inflectional endings only and to return the base or dictionary form of a word, which is known as the lemma\n",
        "    tokenizer = nltk.tokenize.WhitespaceTokenizer()\n",
        "    lemmatizer = nltk.stem.WordNetLemmatizer()\n",
        "    stringList = [lemmatizer.lemmatize(w) for w in tokenizer.tokenize(text)]\n",
        "    return ' '.join([str(element) for element in stringList])"
      ]
    },
    {
      "cell_type": "code",
      "execution_count": 5,
      "metadata": {
        "id": "mhSzwsKSTXVj"
      },
      "outputs": [],
      "source": [
        "!wget http://nlp.stanford.edu/data/glove.twitter.27B.zip"
      ]
    },
    {
      "cell_type": "code",
      "source": [
        "!unzip /content/glove.twitter.27B.zip"
      ],
      "metadata": {
        "id": "RMkTOCb48agb"
      },
      "execution_count": 6,
      "outputs": []
    },
    {
      "cell_type": "markdown",
      "source": [
        "## Data Loading and Preprocessing"
      ],
      "metadata": {
        "id": "iweZ1Lk0sNV8"
      }
    },
    {
      "cell_type": "code",
      "execution_count": 7,
      "metadata": {
        "id": "CPPQxf0VmZSK"
      },
      "outputs": [],
      "source": [
        "Location = r'vaccine_train_set.csv'\n",
        "trainDf=pd.read_csv(Location)\n",
        "Location = r'vaccine_validation_set.csv'  # replace this one with the path of test set\n",
        "validationDf=pd.read_csv(Location)"
      ]
    },
    {
      "cell_type": "code",
      "execution_count": 8,
      "metadata": {
        "id": "9PX-JxKqmbHO"
      },
      "outputs": [],
      "source": [
        "# preprocessing\n",
        "trainDf['tweet'] = trainDf['tweet'].apply(cleaning)\n",
        "trainDf['tweet'] = trainDf['tweet'].apply(lemmatization)\n",
        "\n",
        "validationDf['tweet'] = validationDf['tweet'].apply(cleaning)\n",
        "validationDf['tweet'] = validationDf['tweet'].apply(lemmatization)\n"
      ]
    },
    {
      "cell_type": "code",
      "execution_count": 9,
      "metadata": {
        "id": "6z4_Tf62mdRF"
      },
      "outputs": [],
      "source": [
        "# remove the first column from the train and the validation datasets, it has the numbering of columns\n",
        "trainDf=trainDf.drop(trainDf.columns[0], axis=1) \n",
        "validationDf=validationDf.drop(validationDf.columns[0], axis=1)"
      ]
    },
    {
      "cell_type": "code",
      "execution_count": 10,
      "metadata": {
        "id": "jb5J5-XoLHlf"
      },
      "outputs": [],
      "source": [
        "# then save at new csvs these two datasets, without the first column\n",
        "trainDf.to_csv(\"/content/vaccine_train_set_new.csv\", index=False)\n",
        "validationDf.to_csv(\"/content/vaccine_validation_set_new.csv\", index=False)"
      ]
    },
    {
      "cell_type": "markdown",
      "source": [
        "## Vectorization: build vocabulary using GloVe"
      ],
      "metadata": {
        "id": "j0RJN39CsUu_"
      }
    },
    {
      "cell_type": "markdown",
      "source": [
        "Χρησιμοποιώ το αρχείο glove.twitter.27B.100d.txt, στο οποίο υπάρχουν λέξεις που αναπαριστόνται απο διανύσματα 100 διαστάσεων. Κάθε γραμμή του αρχείου περιέχει ως πρώτο στοιχείο μια λέξη ακολουθούμενη απο 100 πραγματικούς αριθμούς.\n",
        "Με την βοήθεια λοιπόν και του torchtext, κατασκευάζω με βάση τις λέξεις που περιέχονται παράλληλα στο παραπάνω αρχείο και στα sets, ένα λεξικό, όπου ουσιαστικά περίεχει για κάθε λέξη με τα αντίστοιχα embeddings της μέσα σε tensors."
      ],
      "metadata": {
        "id": "nvRKGtNUkriL"
      }
    },
    {
      "cell_type": "code",
      "execution_count": 11,
      "metadata": {
        "id": "7xXXfjm0oCbA"
      },
      "outputs": [],
      "source": [
        "from torchtext.legacy import data\n",
        "import spacy\n",
        "\n",
        "TEXT = data.Field(dtype=torch.long,sequential=True, tokenize=\"spacy\", batch_first=True)\n",
        "LABEL = data.LabelField(dtype=torch.long, batch_first=True, sequential=False)"
      ]
    },
    {
      "cell_type": "code",
      "execution_count": 12,
      "metadata": {
        "id": "bPkH2Lpf10Ph"
      },
      "outputs": [],
      "source": [
        "datafields=[('Tweet', TEXT),('Label', LABEL)]\n",
        "tweetsTrain, tweetsVal = data.TabularDataset.splits( \n",
        "    path=\"\", \n",
        "    train= '/content/vaccine_train_set_new.csv', \n",
        "    validation= '/content/vaccine_validation_set_new.csv', \n",
        "    format=\"csv\", \n",
        "    skip_header=True, \n",
        "    fields=datafields)\n"
      ]
    },
    {
      "cell_type": "code",
      "execution_count": 13,
      "metadata": {
        "id": "JAExPktOqUj3"
      },
      "outputs": [],
      "source": [
        "from torchtext.vocab import Vectors, GloVe\n",
        "vectors = Vectors(name='glove.twitter.27B.100d.txt')\n",
        "TEXT.build_vocab(tweetsTrain, tweetsVal, vectors=vectors, max_size=10000, min_freq=6)\n",
        "LABEL.build_vocab(tweetsTrain)"
      ]
    },
    {
      "cell_type": "code",
      "execution_count": 14,
      "metadata": {
        "colab": {
          "base_uri": "https://localhost:8080/"
        },
        "id": "VdTwxBK-SGnr",
        "outputId": "28c72441-7b0e-4677-851e-fcda432fec75"
      },
      "outputs": [
        {
          "output_type": "stream",
          "name": "stdout",
          "text": [
            "Tokens in TEXT vocabulary: 4447\n",
            "Tokens in LABEL vocabulary: 3\n"
          ]
        }
      ],
      "source": [
        "print(f\"Tokens in TEXT vocabulary: {len(TEXT.vocab)}\")\n",
        "print(f\"Tokens in LABEL vocabulary: {len(LABEL.vocab)}\")"
      ]
    },
    {
      "cell_type": "code",
      "source": [
        "np.shape(TEXT.vocab.vectors)"
      ],
      "metadata": {
        "colab": {
          "base_uri": "https://localhost:8080/"
        },
        "id": "KUbevXSIcZbr",
        "outputId": "c96afa0a-9303-4536-c8e2-483d803dbb33"
      },
      "execution_count": 15,
      "outputs": [
        {
          "output_type": "execute_result",
          "data": {
            "text/plain": [
              "torch.Size([4447, 100])"
            ]
          },
          "metadata": {},
          "execution_count": 15
        }
      ]
    },
    {
      "cell_type": "markdown",
      "source": [
        "## Creation of Iterators "
      ],
      "metadata": {
        "id": "CPvrzacMvh28"
      }
    },
    {
      "cell_type": "code",
      "execution_count": 16,
      "metadata": {
        "id": "W341qxln0yaJ"
      },
      "outputs": [],
      "source": [
        "batch_size = 100\n",
        "# BucketIterator groups sequence of similar lengths text in a batch together to minimize padding,\n",
        "# in order to create the corresponding iterators from train and validation sets\n",
        "trainItr, valItr = data.BucketIterator.splits(\n",
        "    (tweetsTrain, tweetsVal),\n",
        "    batch_size=batch_size,\n",
        "    sort_key=lambda x:len(x.Tweet), # how to group the sequences\n",
        "    shuffle=True,\n",
        "    sort_within_batch=True,\n",
        "    sort=False)"
      ]
    },
    {
      "cell_type": "markdown",
      "source": [
        "## Bidirectional stacked RNN with LSTM/GRU"
      ],
      "metadata": {
        "id": "i7l8lXK5vsry"
      }
    },
    {
      "cell_type": "code",
      "execution_count": 17,
      "metadata": {
        "id": "y4YA1qqIP1Gd"
      },
      "outputs": [],
      "source": [
        "class Attention(nn.Module):\n",
        "    # http://web.stanford.edu/class/cs224n/slides/cs224n-2021-lecture07-nmt.pdf -> page 75\n",
        "    def __init__(self,timestep,hidden_dim):\n",
        "        super(Attention, self).__init__()\n",
        "        self.weight1 = nn.Parameter(torch.Tensor(hidden_dim*2, hidden_dim*2))\n",
        "        self.weight2 = nn.Parameter(torch.Tensor(timestep, hidden_dim*2))\n",
        "        # initialize the weights using normal distribution with mean = 0.0 and std = 0.05\n",
        "        self.weight1.data.normal_(0.0, 0.05)\n",
        "        self.weight2.data.normal_(0.0, 0.05)\n",
        "        \n",
        "    def forward(self, cell_out):\n",
        "        # cell out form is : (batch_size, seq_len, hidden_size)\n",
        "        out = torch.matmul(self.weight1, cell_out.permute(0, 2, 1)) # matrix multiplication (permute rearranges the tensor \"cell_out\" to the desired ordering (batch_size, seq_len, hidden_size) -> (batch_size, hidden_size, seq_len ) in order to do the matrix multiplication)\n",
        "        out = torch.tanh(out)\n",
        "        out = torch.matmul(self.weight2, out) # matrix multiplication, get the attentions scores \n",
        "        out = nn.functional.softmax(out, dim=2) # softmax to get the attention distribution\n",
        "        out = torch.bmm(out, cell_out) # concatenate the attention output with cell's output\n",
        "        \n",
        "        return out\n",
        "\n",
        "\n",
        "class RNN(nn.Module):\n",
        "\n",
        "    cells = {\n",
        "        \"LSTM\"    : nn.LSTM,\n",
        "        \"GRU\"     : nn.GRU\n",
        "        }   \n",
        "\n",
        "    def __init__(self, cell_type, attention_flag, embeddings, embedding_dim, output_size, hidden_dim, n_layers, dropout):\n",
        "        super(RNN, self).__init__()\n",
        "\n",
        "        self.cell_type = cell_type\n",
        "        self.attention_flag=attention_flag\n",
        "        self.output_size = output_size\n",
        "        self.n_layers = n_layers\n",
        "        self.hidden_dim = hidden_dim\n",
        "        self.embedding = nn.Embedding.from_pretrained(embeddings,freeze=True) # load pre-trained vecs, \"freeze=True\" make embedding non-trainable\n",
        "        self.cell = RNN.cells[cell_type](embedding_dim, hidden_dim, n_layers,bidirectional=True,batch_first=True,dropout=dropout) # batch_first=True, so now the batch size is at the first dimension (batch_size, seq_len, hidden_size)\n",
        "        self.linear = nn.Linear(hidden_dim*2, output_size)\n",
        "        self.dropout = torch.nn.Dropout(dropout)\n",
        "        if (attention_flag):\n",
        "          self.attention_layer = Attention(100,hidden_dim)\n",
        "\n",
        "    def forward(self, x, hidden):\n",
        "        batch_size = x.size(0)\n",
        "        x = self.embedding(x)\n",
        "        x = self.dropout(x)\n",
        "        cell_out, hidden = self.cell(x, hidden)\n",
        "        \n",
        "        if (self.attention_flag):\n",
        "          cell_out = self.attention_layer(cell_out)\n",
        "          \n",
        "        out = self.linear(cell_out)\n",
        "\n",
        "        out = out[:, -1, :]\n",
        "        \n",
        "        return out, hidden\n",
        "    \n",
        "    def init_hidden(self, batch_size):\n",
        "        # init hidden states with zeros\n",
        "        weight = next(self.parameters()).data\n",
        "        if (self.cell_type == 'LSTM'):\n",
        "          hidden = (weight.new(self.n_layers*2, batch_size, self.hidden_dim).zero_(),weight.new(self.n_layers*2, batch_size, self.hidden_dim).zero_())\n",
        "        elif (self.cell_type == 'GRU'):\n",
        "          hidden = weight.new(self.n_layers*2, batch_size, self.hidden_dim).zero_()\n",
        "        return hidden\n"
      ]
    },
    {
      "cell_type": "markdown",
      "metadata": {
        "id": "X3Igpv5AP1Gd"
      },
      "source": [
        "## Setup"
      ]
    },
    {
      "cell_type": "code",
      "execution_count": 18,
      "metadata": {
        "id": "fHTfbjeVP1Ge"
      },
      "outputs": [],
      "source": [
        "# Define Hyperparameters\n",
        "output_size = 3\n",
        "embedding_dim = TEXT.vocab.vectors.shape[1]\n",
        "hidden_dim = 40\n",
        "n_layers = 2\n",
        "dropout = 0.1\n",
        "cell_type ='LSTM'\n",
        "attention_flag = False\n",
        "\n",
        "# Initialize model, loss function, optimizer\n",
        "model = RNN(cell_type,attention_flag,TEXT.vocab.vectors, embedding_dim, output_size, hidden_dim, n_layers, dropout)\n",
        "  \n",
        "lr=2e-3\n",
        "loss_func = nn.CrossEntropyLoss()\n",
        "optimizer = torch.optim.Adam(model.parameters(), lr=lr)\n"
      ]
    },
    {
      "cell_type": "code",
      "source": [
        "model"
      ],
      "metadata": {
        "colab": {
          "base_uri": "https://localhost:8080/"
        },
        "id": "T2wkwQHdpGU1",
        "outputId": "82bc5044-e07b-4b03-9edd-5f2fb7b20141"
      },
      "execution_count": 19,
      "outputs": [
        {
          "output_type": "execute_result",
          "data": {
            "text/plain": [
              "RNN(\n",
              "  (embedding): Embedding(4447, 100)\n",
              "  (cell): LSTM(100, 40, num_layers=2, batch_first=True, dropout=0.1, bidirectional=True)\n",
              "  (linear): Linear(in_features=80, out_features=3, bias=True)\n",
              "  (dropout): Dropout(p=0.1, inplace=False)\n",
              ")"
            ]
          },
          "metadata": {},
          "execution_count": 19
        }
      ]
    },
    {
      "cell_type": "markdown",
      "source": [
        "## Train and evalute the model"
      ],
      "metadata": {
        "id": "lDyLUmtzv4r_"
      }
    },
    {
      "cell_type": "code",
      "execution_count": 20,
      "metadata": {
        "colab": {
          "base_uri": "https://localhost:8080/"
        },
        "id": "F-oxLEggwxz2",
        "outputId": "d7006166-d936-41ab-86d7-ec65552b9536"
      },
      "outputs": [
        {
          "output_type": "stream",
          "name": "stdout",
          "text": [
            "Epoch: 1/11... Train Loss: 0.929288 | Val Loss: 0.819168\n",
            "Epoch: 2/11... Train Loss: 0.843059 | Val Loss: 0.794607\n",
            "Epoch: 3/11... Train Loss: 0.817416 | Val Loss: 0.779161\n",
            "Epoch: 4/11... Train Loss: 0.802716 | Val Loss: 0.772819\n",
            "Epoch: 5/11... Train Loss: 0.791114 | Val Loss: 0.755729\n",
            "Epoch: 6/11... Train Loss: 0.776866 | Val Loss: 0.745168\n",
            "Epoch: 7/11... Train Loss: 0.762410 | Val Loss: 0.743788\n",
            "Epoch: 8/11... Train Loss: 0.753456 | Val Loss: 0.737952\n",
            "Epoch: 9/11... Train Loss: 0.737408 | Val Loss: 0.736151\n",
            "Epoch: 10/11... Train Loss: 0.725508 | Val Loss: 0.726354\n",
            "Epoch: 11/11... Train Loss: 0.722196 | Val Loss: 0.739753\n"
          ]
        }
      ],
      "source": [
        "epochs = 11\n",
        "trainLosses=[]\n",
        "valLosses=[]\n",
        "\n",
        "for i in range(epochs):\n",
        "    train_h = model.init_hidden(batch_size)\n",
        "    model.train()\n",
        "    batchLosses = []\n",
        "    for batch in trainItr:\n",
        "\n",
        "        if model.cell_type == 'LSTM':\n",
        "          train_h = tuple([x.data for x in train_h])\n",
        "        elif model.cell_type == 'GRU':\n",
        "          train_h = train_h.detach()\n",
        "        \n",
        "        if batch.Tweet.shape[0] == batch_size:\n",
        "\n",
        "          optimizer.zero_grad() # Delete previously stored gradients\n",
        "\n",
        "          output, train_h = model(batch.Tweet, train_h)\n",
        "          trainLoss = loss_func(output, batch.Label)\n",
        "          batchLosses.append(trainLoss.item())\n",
        "\n",
        "          trainLoss.backward()  # Perform backpropagation starting from the loss calculated in this epoch\n",
        "          nn.utils.clip_grad_norm_(model.parameters(),5) # Clip gradients to avoid vanishing gradients\n",
        "          optimizer.step() # Update model's weights based on the gradients calculated during backprop\n",
        "\n",
        "    trainCurrentLoss = sum(batchLosses)/len(trainItr)\n",
        "    trainLosses.append(trainCurrentLoss) \n",
        "\n",
        "    with torch.no_grad(): # evaluation, don't calculate gradients\n",
        "      model.eval()\n",
        "      val_h = model.init_hidden(batch_size)\n",
        "      batchLosses = []\n",
        "      for batch in valItr:\n",
        "\n",
        "        if model.cell_type == 'LSTM':\n",
        "          val_h = tuple([x.data for x in val_h])\n",
        "        elif model.cell_type == 'GRU':\n",
        "          val_h = val_h.detach()\n",
        "        \n",
        "        if batch.Tweet.shape[0] == batch_size:\n",
        "\n",
        "          output, val_h = model(batch.Tweet, val_h)\n",
        "          valLoss = loss_func(output, batch.Label)\n",
        "          batchLosses.append(valLoss.item())\n",
        "\n",
        "    valCurrentLoss = sum(batchLosses)/len(valItr)\n",
        "    valLosses.append(valCurrentLoss)\n",
        "    print(\"Epoch: {}/{}...\".format(i+1, epochs), \"Train Loss: {:.6f} |\".format(trainCurrentLoss), \"Val Loss: {:.6f}\".format(valCurrentLoss))\n"
      ]
    },
    {
      "cell_type": "markdown",
      "source": [
        "## Accuracy, Precision, Recall, F1-Score, Support, Loss and Roc Curves "
      ],
      "metadata": {
        "id": "PCIKHCLNwGw2"
      }
    },
    {
      "cell_type": "code",
      "source": [
        "from sklearn.metrics import classification_report\n",
        "\n",
        "with torch.no_grad(): # evaluation, don't calculate gradients\n",
        "  correctPreds = 0\n",
        "  sum = 0\n",
        "  model.eval()   \n",
        "  labels = []   \n",
        "  validation_predictions = []\n",
        "  validation_predictionsROC=torch.tensor([])\n",
        "  for batch in valItr:\n",
        "    validation_prediction,_ = model(batch.Tweet,hidden=None)\n",
        "    validation_predictionsROC=torch.concat([validation_predictionsROC, validation_prediction], 0)\n",
        "    _, predictedLabel = torch.max(validation_prediction.data,1)    \n",
        "    correctPreds += (predictedLabel==batch.Label).sum().item()    \n",
        "    sum += len(batch.Label)\n",
        "    validation_predictions += list(predictedLabel)\n",
        "    labels += list(batch.Label.detach().numpy()) \n",
        "    \n",
        "acc = correctPreds / sum\n",
        "print('Accuracy: {}'.format(acc*100))\n",
        "print(classification_report(validation_predictions,labels))\n"
      ],
      "metadata": {
        "id": "v1nntmq6Lnb0",
        "colab": {
          "base_uri": "https://localhost:8080/"
        },
        "outputId": "9eb61274-0c04-4f5f-ec38-d949aaf36b4f"
      },
      "execution_count": 21,
      "outputs": [
        {
          "output_type": "stream",
          "name": "stdout",
          "text": [
            "Accuracy: 65.55652936021035\n",
            "              precision    recall  f1-score   support\n",
            "\n",
            "           0       0.77      0.68      0.72      1212\n",
            "           1       0.66      0.64      0.65       947\n",
            "           2       0.22      0.54      0.32       123\n",
            "\n",
            "    accuracy                           0.66      2282\n",
            "   macro avg       0.55      0.62      0.56      2282\n",
            "weighted avg       0.70      0.66      0.67      2282\n",
            "\n"
          ]
        }
      ]
    },
    {
      "cell_type": "code",
      "execution_count": 22,
      "metadata": {
        "id": "u_mcZVyK7HF7",
        "colab": {
          "base_uri": "https://localhost:8080/",
          "height": 279
        },
        "outputId": "28fefed8-e355-4044-dde7-c2683f54d8c1"
      },
      "outputs": [
        {
          "output_type": "display_data",
          "data": {
            "image/png": "[encoded data removed]",
            "text/plain": [
              "<Figure size 432x288 with 1 Axes>"
            ]
          },
          "metadata": {
            "needs_background": "light"
          }
        }
      ],
      "source": [
        "lossCurve(trainLosses,valLosses)"
      ]
    },
    {
      "cell_type": "code",
      "source": [
        "rocCurve(validation_predictionsROC,labels)"
      ],
      "metadata": {
        "id": "guVLNoqO6A4v",
        "colab": {
          "base_uri": "https://localhost:8080/",
          "height": 279
        },
        "outputId": "161f77b4-6e4e-4ecc-fb9c-1dc1757a177b"
      },
      "execution_count": 23,
      "outputs": [
        {
          "output_type": "display_data",
          "data": {
            "image/png": "[encoded data removed]",
            "text/plain": [
              "<Figure size 432x288 with 1 Axes>"
            ]
          },
          "metadata": {
            "needs_background": "light"
          }
        }
      ]
    }
  ],
  "metadata": {
    "colab": {
      "collapsed_sections": [],
      "name": "hw3.ipynb",
      "provenance": []
    },
    "kernelspec": {
      "display_name": "Python 3",
      "language": "python",
      "name": "python3"
    },
    "language_info": {
      "codemirror_mode": {
        "name": "ipython",
        "version": 3
      },
      "file_extension": ".py",
      "mimetype": "text/x-python",
      "name": "python",
      "nbconvert_exporter": "python",
      "pygments_lexer": "ipython3",
      "version": "3.8.10"
    }
  },
  "nbformat": 4,
  "nbformat_minor": 0
}