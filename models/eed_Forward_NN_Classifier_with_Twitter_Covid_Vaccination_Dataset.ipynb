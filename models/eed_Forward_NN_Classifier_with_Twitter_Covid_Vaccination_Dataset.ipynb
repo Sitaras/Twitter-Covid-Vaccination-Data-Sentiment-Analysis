{
  "cells": [
    {
      "cell_type": "markdown",
      "metadata": {
        "id": "ruWJ4cTz794Z"
      },
      "source": [
        "# Artificial Intelligence II - Homework 2\n",
        "---\n",
        "###Δημήτριος Σιταράς | 1115201800178\n",
        "---"
      ]
    },
    {
      "cell_type": "code",
      "execution_count": 1,
      "metadata": {
        "id": "E4yVVSMZ7YGi",
        "colab": {
          "base_uri": "https://localhost:8080/"
        },
        "outputId": "d28410e6-1c2e-41e7-cec7-95e1f57e7fba"
      },
      "outputs": [
        {
          "output_type": "stream",
          "name": "stdout",
          "text": [
            "Requirement already satisfied: tweet-preprocessor in /usr/local/lib/python3.7/dist-packages (0.6.0)\n"
          ]
        }
      ],
      "source": [
        "import torch\n",
        "import torch.nn as nn\n",
        "import matplotlib.pyplot as plt\n",
        "import pandas as pd\n",
        "import numpy as np\n",
        "\n",
        "!pip install tweet-preprocessor"
      ]
    },
    {
      "cell_type": "code",
      "execution_count": 2,
      "metadata": {
        "id": "kNSPjTYhoEXL"
      },
      "outputs": [],
      "source": [
        "def lossCurve(trainLosses,valLosses):\n",
        "  plt.plot(trainLosses, color=\"r\")\n",
        "  plt.plot(valLosses, color=\"g\")\n",
        "  plt.ylabel('Loss')\n",
        "  plt.xlabel('Epochs')\n",
        "  plt.legend(['Train Loss','Validation Loss'])\n",
        "  plt.show()"
      ]
    },
    {
      "cell_type": "code",
      "execution_count": 3,
      "metadata": {
        "id": "Hz-NKGgiuVav"
      },
      "outputs": [],
      "source": [
        "from sklearn.metrics import roc_curve, roc_auc_score,auc\n",
        "from sklearn.preprocessing import label_binarize\n",
        "from scipy import interp\n",
        "from itertools import cycle\n",
        "\n",
        "def rocCurve(validation_prediction,yValidation):\n",
        "  fpr = dict()\n",
        "  tpr = dict()\n",
        "  roc_auc = dict()\n",
        "  n_classes=3\n",
        "  validationPrediction=validation_prediction.detach().numpy()\n",
        "  yLabelsBin = label_binarize(yValidation, classes=[0,1,2])\n",
        "  for i in range(n_classes):\n",
        "      fpr[i], tpr[i], _ = roc_curve(yLabelsBin[:,i], validationPrediction[:,i])\n",
        "      roc_auc[i] = auc(fpr[i], tpr[i])\n",
        "  lw = 2\n",
        "  colors = cycle([\"aqua\", \"darkorange\", \"cornflowerblue\"])\n",
        "  for i, color in zip(range(n_classes), colors):\n",
        "      plt.plot(\n",
        "          fpr[i],\n",
        "          tpr[i],\n",
        "          color=color,\n",
        "          lw=lw,\n",
        "          label=\"ROC curve of class {0} (area = {1:0.2f})\".format(i, roc_auc[i]),\n",
        "      )\n",
        "\n",
        "  plt.plot([0, 1], [0, 1], \"k--\", lw=lw)\n",
        "  plt.xlim([0.0, 1.0])\n",
        "  plt.ylim([0.0, 1.05])\n",
        "  plt.xlabel(\"False Positive Rate\")\n",
        "  plt.ylabel(\"True Positive Rate\")\n",
        "  plt.legend(loc=\"lower right\")\n",
        "  plt.show()"
      ]
    },
    {
      "cell_type": "markdown",
      "metadata": {
        "id": "caFLieF_cUqZ"
      },
      "source": [
        "Οι παρακάτω συναρτήσεις χρησιμοποιούνται για την προεπεξεργασία/καθάρισμα των δεδομένων (δηλαδή των tweets) και συγκεκριμένα:\n",
        "\n",
        "\n",
        "\n",
        "*   Η συνάρτηση cleaning(...) χρησιμοποιείται για τον καθαρισμό των urls και των mentions απο τα tweets (γι'αυτό τον σκοπό εγκαθιστώ και χρησιμοποιώ τον tweet-preprocessor). Επίσης, μέσω της συνάρτησης αυτής αφαιρώ από τα tweets τα emojis, τα σημεία στίξης και οποιαδήποτε σύμβολα.\n",
        "*    Η συνάρτηση stemming(...) χρησιμοποιείται για να μειώσει την κλίση των λέξεων του κάθε tweet στην ρίζα ή την βάση τους. Γι'αυτό τον σκοπό χρησιμοποιώ τον SnowBallStemmer.\n",
        "*    Η συνάρτηση lemmatization(...) χρησιμοποιείται για την \"ομαδοποίηση\" των λέξεων του κάθε tweet στo λήμμα τους, ώστε να μπορούν να αναλυθούν ως ένα ενιαίο στοιχείο."
      ]
    },
    {
      "cell_type": "code",
      "execution_count": 4,
      "metadata": {
        "id": "u3FgO0y6Hslw",
        "colab": {
          "base_uri": "https://localhost:8080/"
        },
        "outputId": "b7b8d1ef-74e5-4c20-a2bd-b999a9c56580"
      },
      "outputs": [
        {
          "output_type": "stream",
          "name": "stdout",
          "text": [
            "[nltk_data] Downloading package wordnet to /root/nltk_data...\n",
            "[nltk_data]   Package wordnet is already up-to-date!\n"
          ]
        }
      ],
      "source": [
        "import string\n",
        "import re\n",
        "import nltk\n",
        "from nltk.stem.snowball import SnowballStemmer\n",
        "from nltk.stem import WordNetLemmatizer\n",
        "import preprocessor as p\n",
        "nltk.download('wordnet')\n",
        "\n",
        "def cleaning(text):\n",
        "    # used to clean urls, mentions (with @), emojis, punctuation marks and all the other symbols that exist\n",
        "    p.set_options(p.OPT.URL,p.OPT.MENTION)\n",
        "    text = p.clean(text)\n",
        "    return ' '.join(re.sub(\"(@[A-Za-z0-9]+)|([^0-9A-Za-z \\t])|(\\w+:\\/\\/\\S+)\", \"\", text).split())\n",
        "\n",
        "def stemming(text):\n",
        "    # used to reduce the inflection in words to their root \n",
        "    # SnowBallStemmer used for this job\n",
        "    SnowStemmer = SnowballStemmer(\"english\")\n",
        "    stemmedΤokens = [SnowStemmer.stem(token) for token in text.split()]\n",
        "    return ' '.join(stemmedΤokens)\n",
        "\n",
        "def lemmatization(text):\n",
        "    # used to remove inflectional endings only and to return the base or dictionary form of a word, which is known as the lemma\n",
        "    tokenizer = nltk.tokenize.WhitespaceTokenizer()\n",
        "    lemmatizer = nltk.stem.WordNetLemmatizer()\n",
        "    stringList = [lemmatizer.lemmatize(w) for w in tokenizer.tokenize(text)]\n",
        "    return ' '.join([str(element) for element in stringList])"
      ]
    },
    {
      "cell_type": "markdown",
      "source": [
        "Οι παρακάτω συναρτήσεις χρησιμοποιούνται για να παραχθούν οι αναπαραστάσεις των tweets μέσω του pre-trained μοντέλου.\n",
        "\n",
        "Πιο συγκεκριμένα:\n",
        "* Η συνάρτηση findTweetsFeatureVectors καλεί την συνάρτηση findAverageVector για κάθε ένα tweet έτσι ώστε να δημιουργηθεί η αναπαράσταση του.\n",
        "* Η συνάρτηση findAverageVector δημιουργεί την αναπαράσταση ενός tweet. Δηλαδή για κάθε μια λέξη που περιέχεται στο tweet βρίσκει το διάνυσμα που αντιστοιχεί στην λέξη αυτή από το GloVe λεξικό που έχω φτίαξει. Αφού βρεθούν τα διανύσματα όλων των λέξεων του tweet, υπολογίζεται ο μέσος όρος τους και προκύπτει το τελικό διάνυσμα που  αναπαριστά το tweet, το οποίο επιστρέφεται."
      ],
      "metadata": {
        "id": "Yfa8u7etJz0b"
      }
    },
    {
      "cell_type": "code",
      "execution_count": 5,
      "metadata": {
        "id": "6or0eMJP4id8"
      },
      "outputs": [],
      "source": [
        "def findAverageVector(words, vocab, features): # find the average vector of the words of a given tweet\n",
        "    # average the word vectors for a set of words\n",
        "    featureVec = np.zeros((features,),dtype=\"float32\") # initialize\n",
        "    nwords = 0.\n",
        " \n",
        "    for word in words: # for every word of the tweet\n",
        "        if word in vocab: # if dictionary/vocab contains that word\n",
        "            nwords = nwords + 1.\n",
        "            featureVec = np.add(featureVec,vocab[word]) # add the vector of this word to the total vector\n",
        "\n",
        "    if nwords > 0:\n",
        "      featureVec = np.divide(featureVec, nwords) # find the average of the total vector\n",
        "    return featureVec \n",
        "\n",
        "\n",
        "def findTweetsFeatureVectors(tweets, vocab, features): # find the average feature vector for every tweet\n",
        "    # calculate average feature vectors for the given tweets\n",
        "    i = 0\n",
        "    tweetFeatureVecs = np.zeros((len(tweets),features), dtype='float32') # initialize\n",
        "    \n",
        "    for tweet in tweets:\n",
        "        tweetFeatureVecs[i] = findAverageVector(tweet, vocab, features)\n",
        "        i = i + 1\n",
        "    return tweetFeatureVecs"
      ]
    },
    {
      "cell_type": "markdown",
      "metadata": {
        "id": "JfwQd_Z5hDL8"
      },
      "source": [
        "## Data Loading and Preprocessing"
      ]
    },
    {
      "cell_type": "code",
      "execution_count": 6,
      "metadata": {
        "id": "8pm7sprm8Tvb"
      },
      "outputs": [],
      "source": [
        "Location = r'vaccine_train_set.csv'\n",
        "trainDf=pd.read_csv(Location)\n",
        "Location = r'vaccine_validation_set.csv' \n",
        "validationDf=pd.read_csv(Location)"
      ]
    },
    {
      "cell_type": "code",
      "execution_count": 7,
      "metadata": {
        "id": "399kouaxHpqk"
      },
      "outputs": [],
      "source": [
        "trainDf['tweet'] = trainDf['tweet'].apply(cleaning)\n",
        "trainDf['tweet'] = trainDf['tweet'].apply(lemmatization)\n",
        "\n",
        "validationDf['tweet'] = validationDf['tweet'].apply(cleaning)\n",
        "validationDf['tweet'] = validationDf['tweet'].apply(lemmatization)\n"
      ]
    },
    {
      "cell_type": "code",
      "execution_count": 8,
      "metadata": {
        "id": "F5rb36CV2V0Z"
      },
      "outputs": [],
      "source": [
        "tweetsTrain=list(trainDf['tweet'])\n",
        "labelsTrain=list(trainDf['label'])\n",
        "\n",
        "tweetsVal=list(validationDf['tweet'])\n",
        "labelsVal=list(validationDf['label'])"
      ]
    },
    {
      "cell_type": "markdown",
      "source": [
        "## Vectorization with pre-trained word embedding vectors using GloVe (for the first model)\n"
      ],
      "metadata": {
        "id": "HaMGIk7TUDBb"
      }
    },
    {
      "cell_type": "markdown",
      "metadata": {
        "id": "wC77xMlj2Du8"
      },
      "source": [
        "Χρησιμοποιώ το αρχείο glove.twitter.27B.100d.txt, στο οποίο υπάρχουν λέξεις που αναπαριστόνται απο διανύσματα 100 διαστάσεων. Κάθε γραμμή του αρχείου περιέχει ως πρώτο στοιχείο μια λέξη ακολουθούμενη απο 100 πραγματικούς αριθμούς.\n",
        "Για το αρχείο αυτο κατασκευάζω ένα dictionary που αντιστοιχίζει ουσιαστικά κάθε λέξη με το διανύσματά της."
      ]
    },
    {
      "cell_type": "code",
      "execution_count": 9,
      "metadata": {
        "id": "DRGeuKXw_8BV"
      },
      "outputs": [],
      "source": [
        "!wget http://nlp.stanford.edu/data/glove.twitter.27B.zip"
      ]
    },
    {
      "cell_type": "code",
      "execution_count": 10,
      "metadata": {
        "id": "GCQFUUDS8-BW"
      },
      "outputs": [],
      "source": [
        "!unzip glove.twitter.27B.zip"
      ]
    },
    {
      "cell_type": "code",
      "execution_count": 11,
      "metadata": {
        "colab": {
          "base_uri": "https://localhost:8080/"
        },
        "id": "tWfa2O2MCIO4",
        "outputId": "e44b7a73-8c3d-41d6-8b6b-06ec770d30d8"
      },
      "outputs": [
        {
          "output_type": "stream",
          "name": "stdout",
          "text": [
            "Found 1193514 word vectors.\n"
          ]
        }
      ],
      "source": [
        "embeddingsIndex = {}\n",
        "f = open('glove.twitter.27B.100d.txt', encoding='utf-8')\n",
        "for line in f:\n",
        "\n",
        "    values = line.split()\n",
        "    word = values[0]\n",
        "    coefs = np.asarray(values[1:], dtype='float32')\n",
        "    embeddingsIndex[word] = coefs\n",
        "f.close()\n",
        "\n",
        "print('Found %s word vectors.' % len(embeddingsIndex))"
      ]
    },
    {
      "cell_type": "markdown",
      "source": [
        "Κατασκευάζω τις αναπαραστάσεις του Train και του Validation set. Οι συγκεκριμένες αναπαραστάσεις θα χρησιμοποιηθούν για το 1ο μοντέλο."
      ],
      "metadata": {
        "id": "oigfskCcMEOB"
      }
    },
    {
      "cell_type": "code",
      "execution_count": 12,
      "metadata": {
        "id": "ZztjRwCW2HtW",
        "colab": {
          "base_uri": "https://localhost:8080/"
        },
        "outputId": "30ef0b55-7118-4c9b-c1a1-00009261e8cb"
      },
      "outputs": [
        {
          "output_type": "stream",
          "name": "stdout",
          "text": [
            "Glove train shape: (15976, 100)\n",
            "Glove validation shape: (2282, 100)\n"
          ]
        }
      ],
      "source": [
        "xTrainTokens = [sent.lower().split() for sent in tweetsTrain]\n",
        "xValidationTokens = [sent.lower().split() for sent in tweetsVal]\n",
        "trainDataVecs = findTweetsFeatureVectors(xTrainTokens, embeddingsIndex,100)\n",
        "validationDataVecs  = findTweetsFeatureVectors(xValidationTokens, embeddingsIndex, 100)\n",
        "print(\"Glove train shape:\", trainDataVecs.shape)\n",
        "print(\"Glove validation shape:\", validationDataVecs.shape)"
      ]
    },
    {
      "cell_type": "markdown",
      "source": [
        "## Vectorization with TF-IDF (for the second model)\n",
        "Κατασκευάζω πίνακες Tf-idf για για το Train και το Validation set. Οι συγκεκριμένες αναπαραστάσεις θα χρησιμοποιηθούν για το 2ο μοντέλο."
      ],
      "metadata": {
        "id": "XPjHbiq6YtwF"
      }
    },
    {
      "cell_type": "code",
      "execution_count": 13,
      "metadata": {
        "colab": {
          "base_uri": "https://localhost:8080/"
        },
        "id": "fJp5AA_W2Iyr",
        "outputId": "8a70ffaa-391a-407c-e248-178a59e01e82"
      },
      "outputs": [
        {
          "output_type": "stream",
          "name": "stdout",
          "text": [
            "TF-IDF train shape: (15976, 279)\n",
            "TF-IDF validation shape: (2282, 279)\n"
          ]
        }
      ],
      "source": [
        "from sklearn.feature_extraction.text import TfidfVectorizer\n",
        "tfidfVectorizer = TfidfVectorizer(max_df=0.95, min_df=0.01, ngram_range=(1,2)) #initialize the TfidfVectorizer\n",
        "\n",
        "tfidfTrain = tfidfVectorizer.fit_transform(tweetsTrain)\n",
        "tfidfTrain = tfidfTrain.toarray()\n",
        "\n",
        "tfidfVal = tfidfVectorizer.transform(tweetsVal)\n",
        "tfidfVal = tfidfVal.toarray()\n",
        "\n",
        "print(\"TF-IDF train shape:\", tfidfTrain.shape)\n",
        "print(\"TF-IDF validation shape:\", tfidfVal.shape)"
      ]
    },
    {
      "cell_type": "markdown",
      "source": [
        "## Convert to Tensors"
      ],
      "metadata": {
        "id": "PuTU5xMxNFN2"
      }
    },
    {
      "cell_type": "code",
      "execution_count": 14,
      "metadata": {
        "id": "2EIP1OaJOFak"
      },
      "outputs": [],
      "source": [
        "xTrainGlove = torch.tensor(trainDataVecs, dtype=torch.float)\n",
        "yTrainGlove = torch.tensor(labelsTrain, dtype=torch.long)\n",
        "yTrainGlove = torch.squeeze(yTrainGlove)\n",
        "\n",
        "xValidationGlove = torch.tensor(validationDataVecs, dtype=torch.float)\n",
        "yValidationGlove = torch.tensor(labelsVal, dtype=torch.long)\n",
        "yValidationGlove = torch.squeeze(yValidationGlove)"
      ]
    },
    {
      "cell_type": "code",
      "execution_count": 15,
      "metadata": {
        "id": "jPw1E0bF5SWU"
      },
      "outputs": [],
      "source": [
        "xTrainTfidf = torch.tensor(tfidfTrain, dtype=torch.float)\n",
        "yTrainTfidf = torch.tensor(labelsTrain, dtype=torch.long)\n",
        "yTrainTfidf = torch.squeeze(yTrainTfidf)\n",
        "\n",
        "xValidationTfidf = torch.tensor(tfidfVal, dtype=torch.float)\n",
        "yValidationTfidf = torch.tensor(labelsVal, dtype=torch.long)\n",
        "yValidationTfidf = torch.squeeze(yValidationTfidf)"
      ]
    },
    {
      "cell_type": "markdown",
      "metadata": {
        "id": "i10vl9KnOwfE"
      },
      "source": [
        "## Neural Network\n"
      ]
    },
    {
      "cell_type": "code",
      "execution_count": 16,
      "metadata": {
        "id": "wTlyzUiG8p5V"
      },
      "outputs": [],
      "source": [
        "class Net(nn.Module):\n",
        "    def __init__(self, D_in, H1, H2, H3, D_out):\n",
        "        super(Net, self).__init__()\n",
        "        \n",
        "        self.linear1 = nn.Linear(D_in, H1)\n",
        "        self.relu1 = nn.ReLU()\n",
        "        self.linear2 = nn.Linear(H1, H2)\n",
        "        self.relu2 = nn.ReLU()\n",
        "        self.linear3 = nn.Linear(H2, H3)\n",
        "        self.relu3 = nn.ReLU()\n",
        "        self.linear4 = nn.Linear(H3, D_out)\n",
        "        self.softmax = nn.Softmax(dim=1)\n",
        "        \n",
        "    def forward(self, x):\n",
        "        x = self.linear1(x)\n",
        "        x = self.relu1(x)\n",
        "\n",
        "        x = self.linear2(x)\n",
        "        x = self.relu2(x)\n",
        "\n",
        "        x = self.linear3(x)\n",
        "        x = self.relu3(x)\n",
        "        \n",
        "        x = self.linear4(x)\n",
        "        x = self.softmax(x)\n",
        "        return x\n",
        "  "
      ]
    },
    {
      "cell_type": "markdown",
      "source": [
        "## Initialize the 1st Model"
      ],
      "metadata": {
        "id": "SBJbeuW9O-y8"
      }
    },
    {
      "cell_type": "code",
      "execution_count": 17,
      "metadata": {
        "id": "BXAcc2dLPPUe"
      },
      "outputs": [],
      "source": [
        "D_in = xTrainGlove.shape[1]\n",
        "H1 = 32\n",
        "H2 = 16\n",
        "H3 = 8\n",
        "D_out = 3\n",
        "\n",
        "#Define Hyperparameters\n",
        "learning_rate = 1e-4\n",
        "\n",
        "#Initialize modelGlove, loss, optimizer\n",
        "modelGlove = Net(D_in, H1, H2, H3, D_out)\n",
        "loss_func = nn.CrossEntropyLoss()\n",
        "optimizer = torch.optim.Adam(modelGlove.parameters(), lr=learning_rate)\n",
        "\n",
        "batch_size=100\n",
        "#Initialize dataloader\n",
        "datasetGlove = torch.utils.data.TensorDataset(xTrainGlove, yTrainGlove)\n",
        "dataloaderGlove = torch.utils.data.DataLoader(datasetGlove, batch_size, shuffle=True)\n",
        "#Initialize validationloader\n",
        "validationsetGlove = torch.utils.data.TensorDataset(xValidationGlove, yValidationGlove)\n",
        "validationloaderGlove = torch.utils.data.DataLoader(validationsetGlove, batch_size, shuffle=False)"
      ]
    },
    {
      "cell_type": "code",
      "execution_count": 18,
      "metadata": {
        "colab": {
          "base_uri": "https://localhost:8080/"
        },
        "id": "4ENFPjgHSCAV",
        "outputId": "3d6855b9-b261-47bd-eea3-9bfa539e88f7"
      },
      "outputs": [
        {
          "output_type": "execute_result",
          "data": {
            "text/plain": [
              "Net(\n",
              "  (linear1): Linear(in_features=100, out_features=32, bias=True)\n",
              "  (relu1): ReLU()\n",
              "  (linear2): Linear(in_features=32, out_features=16, bias=True)\n",
              "  (relu2): ReLU()\n",
              "  (linear3): Linear(in_features=16, out_features=8, bias=True)\n",
              "  (relu3): ReLU()\n",
              "  (linear4): Linear(in_features=8, out_features=3, bias=True)\n",
              "  (softmax): Softmax(dim=1)\n",
              ")"
            ]
          },
          "metadata": {},
          "execution_count": 18
        }
      ],
      "source": [
        "modelGlove"
      ]
    },
    {
      "cell_type": "markdown",
      "source": [
        "## Train the 1st Model"
      ],
      "metadata": {
        "id": "2nYnwqsEPWAd"
      }
    },
    {
      "cell_type": "code",
      "execution_count": 19,
      "metadata": {
        "id": "fck--1cFP1Rd"
      },
      "outputs": [],
      "source": [
        "trainLosses=[]\n",
        "valLosses=[]\n",
        "for epoch in range(100):\n",
        "  batchLosses = []\n",
        "  for x_batch, y_batch in dataloaderGlove:\n",
        "    y_pred = modelGlove(x_batch)\n",
        "    trainLoss = loss_func(y_pred, y_batch)\n",
        "    batchLosses.append(trainLoss.item())\n",
        "       \n",
        "    #Delete previously stored gradients\n",
        "    optimizer.zero_grad()\n",
        "    #Perform backpropagation starting from the loss calculated in this epoch\n",
        "    trainLoss.backward()\n",
        "    #Update modelGlove's weights based on the gradients calculated during backprop\n",
        "    optimizer.step()\n",
        "\n",
        "  current = sum(batchLosses)/len(dataloaderGlove)\n",
        "  # print(f\"Epoch {epoch:3}: Train Loss = {current:.5f}\")\n",
        "  trainLosses.append(current) \n",
        "  \n",
        "  modelGlove.eval()\n",
        "  batchLosses = []\n",
        "  for x_batch, y_batch in validationloaderGlove:\n",
        "    y_pred = modelGlove(x_batch)\n",
        "    valLoss = loss_func(y_pred, y_batch)\n",
        "    batchLosses.append(valLoss.item())\n",
        "    \n",
        "  current = sum(batchLosses)/len(validationloaderGlove)\n",
        "  # print(f\"Epoch {epoch:3}: validation Loss = {current:.5f}\")\n",
        "  valLosses.append(current) "
      ]
    },
    {
      "cell_type": "markdown",
      "source": [
        "## Accuracy, Precision, Recall, F1-Score, Support, Loss and Roc Curves for the 1st Model"
      ],
      "metadata": {
        "id": "o0xLf0oVPuXP"
      }
    },
    {
      "cell_type": "code",
      "execution_count": 20,
      "metadata": {
        "colab": {
          "base_uri": "https://localhost:8080/"
        },
        "id": "2NG92YYlJFxX",
        "outputId": "3fef589d-d4df-4d2a-a61f-a40bb6a8cdcd"
      },
      "outputs": [
        {
          "output_type": "stream",
          "name": "stdout",
          "text": [
            "Accuracy: 65.60035705566406\n",
            "              precision    recall  f1-score   support\n",
            "\n",
            "           0       0.74      0.74      0.74      1065\n",
            "           1       0.00      0.00      0.00       296\n",
            "           2       0.58      0.77      0.66       921\n",
            "\n",
            "    accuracy                           0.66      2282\n",
            "   macro avg       0.44      0.50      0.47      2282\n",
            "weighted avg       0.58      0.66      0.61      2282\n",
            "\n"
          ]
        },
        {
          "output_type": "stream",
          "name": "stderr",
          "text": [
            "/usr/local/lib/python3.7/dist-packages/sklearn/metrics/_classification.py:1308: UndefinedMetricWarning: Precision and F-score are ill-defined and being set to 0.0 in labels with no predicted samples. Use `zero_division` parameter to control this behavior.\n",
            "  _warn_prf(average, modifier, msg_start, len(result))\n",
            "/usr/local/lib/python3.7/dist-packages/sklearn/metrics/_classification.py:1308: UndefinedMetricWarning: Precision and F-score are ill-defined and being set to 0.0 in labels with no predicted samples. Use `zero_division` parameter to control this behavior.\n",
            "  _warn_prf(average, modifier, msg_start, len(result))\n",
            "/usr/local/lib/python3.7/dist-packages/sklearn/metrics/_classification.py:1308: UndefinedMetricWarning: Precision and F-score are ill-defined and being set to 0.0 in labels with no predicted samples. Use `zero_division` parameter to control this behavior.\n",
            "  _warn_prf(average, modifier, msg_start, len(result))\n"
          ]
        }
      ],
      "source": [
        "from sklearn.metrics import classification_report\n",
        "from sklearn.metrics import f1_score\n",
        "validation_prediction=modelGlove(xValidationGlove.float())\n",
        "_, predicted = torch.max(validation_prediction.data, 1)\n",
        "correct = (yValidationGlove == predicted).float() \n",
        "acc = correct.sum() / len(correct)\n",
        "\n",
        "print('Accuracy: {}'.format(acc*100))\n",
        "\n",
        "print(classification_report(yValidationGlove,predicted))\n"
      ]
    },
    {
      "cell_type": "code",
      "execution_count": 21,
      "metadata": {
        "colab": {
          "base_uri": "https://localhost:8080/",
          "height": 279
        },
        "id": "PP2xPjCKjNrQ",
        "outputId": "70d30bef-404f-4ac6-ae7e-b064fe25e0a2"
      },
      "outputs": [
        {
          "output_type": "display_data",
          "data": {
            "image/png": "[encoded data removed]",
            "text/plain": [
              "<Figure size 432x288 with 1 Axes>"
            ]
          },
          "metadata": {
            "needs_background": "light"
          }
        }
      ],
      "source": [
        "lossCurve(trainLosses,valLosses)"
      ]
    },
    {
      "cell_type": "code",
      "execution_count": 22,
      "metadata": {
        "id": "P_UI_47uOC3q",
        "colab": {
          "base_uri": "https://localhost:8080/",
          "height": 279
        },
        "outputId": "bc25ec4f-8005-4feb-aff6-8e565685fa84"
      },
      "outputs": [
        {
          "output_type": "display_data",
          "data": {
            "image/png": "[encoded data removed]",
            "text/plain": [
              "<Figure size 432x288 with 1 Axes>"
            ]
          },
          "metadata": {
            "needs_background": "light"
          }
        }
      ],
      "source": [
        "rocCurve(validation_prediction,yValidationGlove)"
      ]
    },
    {
      "cell_type": "markdown",
      "source": [
        "## Initialize the 2nd Model"
      ],
      "metadata": {
        "id": "aCo3kvIrQE-F"
      }
    },
    {
      "cell_type": "code",
      "execution_count": 23,
      "metadata": {
        "id": "C282lg6PSIMO"
      },
      "outputs": [],
      "source": [
        "D_in = xTrainTfidf.shape[1]\n",
        "H1 = 32\n",
        "H2 = 16\n",
        "H3 = 8\n",
        "D_out = 3\n",
        "\n",
        "#Define Hyperparameters\n",
        "learning_rate = 1e-4\n",
        "\n",
        "#Initialize modelTfIdf, loss, optimizer\n",
        "modelTfidf = Net(D_in, H1, H2, H3, D_out)\n",
        "loss_func = nn.CrossEntropyLoss()\n",
        "optimizer = torch.optim.Adam(modelTfidf.parameters(), lr=learning_rate)\n",
        "\n",
        "#Initialize dataloader\n",
        "datasetTfidf = torch.utils.data.TensorDataset(xTrainTfidf, yTrainTfidf)\n",
        "dataloaderTfidf = torch.utils.data.DataLoader(datasetTfidf, batch_size=100, shuffle=True)\n",
        "#Initialize validationloader\n",
        "validationsetTfidf = torch.utils.data.TensorDataset(xValidationTfidf, yValidationTfidf)\n",
        "validationloaderTfidf = torch.utils.data.DataLoader(validationsetTfidf, batch_size=100, shuffle=False)"
      ]
    },
    {
      "cell_type": "code",
      "execution_count": 24,
      "metadata": {
        "colab": {
          "base_uri": "https://localhost:8080/"
        },
        "id": "0GByONQxSP8L",
        "outputId": "12edb89b-9d21-49db-99ab-09ea0fb45d3e"
      },
      "outputs": [
        {
          "output_type": "execute_result",
          "data": {
            "text/plain": [
              "Net(\n",
              "  (linear1): Linear(in_features=279, out_features=32, bias=True)\n",
              "  (relu1): ReLU()\n",
              "  (linear2): Linear(in_features=32, out_features=16, bias=True)\n",
              "  (relu2): ReLU()\n",
              "  (linear3): Linear(in_features=16, out_features=8, bias=True)\n",
              "  (relu3): ReLU()\n",
              "  (linear4): Linear(in_features=8, out_features=3, bias=True)\n",
              "  (softmax): Softmax(dim=1)\n",
              ")"
            ]
          },
          "metadata": {},
          "execution_count": 24
        }
      ],
      "source": [
        "modelTfidf"
      ]
    },
    {
      "cell_type": "markdown",
      "source": [
        "## Train the 2nd Model"
      ],
      "metadata": {
        "id": "rgzWDULGQIWB"
      }
    },
    {
      "cell_type": "code",
      "execution_count": 25,
      "metadata": {
        "id": "p-UsWJ1v8va0"
      },
      "outputs": [],
      "source": [
        "trainLosses=[]\n",
        "valLosses=[]\n",
        "for epoch in range(100):\n",
        "  batchLosses = []\n",
        "  for x_batch, y_batch in dataloaderTfidf:\n",
        "    y_pred = modelTfidf(x_batch)\n",
        "    trainLoss = loss_func(y_pred, y_batch)\n",
        "    batchLosses.append(trainLoss.item())\n",
        "       \n",
        "    #Delete previously stored gradients\n",
        "    optimizer.zero_grad()\n",
        "    #Perform backpropagation starting from the loss calculated in this epoch\n",
        "    trainLoss.backward()\n",
        "    #Update modelTfidf's weights based on the gradients calculated during backprop\n",
        "    optimizer.step()\n",
        "\n",
        "  current = sum(batchLosses)/len(dataloaderTfidf)\n",
        "  # print(f\"Epoch {epoch:3}: Train Loss = {current:.5f}\")\n",
        "  trainLosses.append(current) \n",
        "  \n",
        "  modelTfidf.eval()\n",
        "  batchLosses = []\n",
        "  for x_batch, y_batch in validationloaderTfidf:\n",
        "    y_pred = modelTfidf(x_batch)\n",
        "    valLoss = loss_func(y_pred, y_batch)\n",
        "    batchLosses.append(valLoss.item())\n",
        "\n",
        "    \n",
        "  current = sum(batchLosses)/len(validationloaderTfidf)\n",
        "  # print(f\"Epoch {epoch:3}: Validation Loss = {current:.5f}\")\n",
        "  valLosses.append(current)     "
      ]
    },
    {
      "cell_type": "markdown",
      "source": [
        "## Accuracy, Precision, Recall, F1-Score, Support, Loss and Roc Curves for the 2nd Model"
      ],
      "metadata": {
        "id": "OwaW6-FeQN9B"
      }
    },
    {
      "cell_type": "code",
      "execution_count": 26,
      "metadata": {
        "id": "BZSYxB2Q9MI0",
        "colab": {
          "base_uri": "https://localhost:8080/"
        },
        "outputId": "c0e63f7f-2bb0-4c9b-95d6-0972e01360b7"
      },
      "outputs": [
        {
          "output_type": "stream",
          "name": "stdout",
          "text": [
            "Accuracy: 66.2576675415039\n",
            "              precision    recall  f1-score   support\n",
            "\n",
            "           0       0.72      0.77      0.75      1065\n",
            "           1       0.00      0.00      0.00       296\n",
            "           2       0.60      0.75      0.67       921\n",
            "\n",
            "    accuracy                           0.66      2282\n",
            "   macro avg       0.44      0.51      0.47      2282\n",
            "weighted avg       0.58      0.66      0.62      2282\n",
            "\n"
          ]
        },
        {
          "output_type": "stream",
          "name": "stderr",
          "text": [
            "/usr/local/lib/python3.7/dist-packages/sklearn/metrics/_classification.py:1308: UndefinedMetricWarning: Precision and F-score are ill-defined and being set to 0.0 in labels with no predicted samples. Use `zero_division` parameter to control this behavior.\n",
            "  _warn_prf(average, modifier, msg_start, len(result))\n",
            "/usr/local/lib/python3.7/dist-packages/sklearn/metrics/_classification.py:1308: UndefinedMetricWarning: Precision and F-score are ill-defined and being set to 0.0 in labels with no predicted samples. Use `zero_division` parameter to control this behavior.\n",
            "  _warn_prf(average, modifier, msg_start, len(result))\n",
            "/usr/local/lib/python3.7/dist-packages/sklearn/metrics/_classification.py:1308: UndefinedMetricWarning: Precision and F-score are ill-defined and being set to 0.0 in labels with no predicted samples. Use `zero_division` parameter to control this behavior.\n",
            "  _warn_prf(average, modifier, msg_start, len(result))\n"
          ]
        }
      ],
      "source": [
        "from sklearn.metrics import classification_report\n",
        "validation_prediction=modelTfidf(xValidationTfidf.float())\n",
        "_, predicted = torch.max(validation_prediction.data, 1)\n",
        "correct = (yValidationTfidf == predicted).float() \n",
        "acc = correct.sum() / len(correct)\n",
        "\n",
        "print('Accuracy: {}'.format(acc*100))\n",
        "\n",
        "print(classification_report(yValidationTfidf,predicted))"
      ]
    },
    {
      "cell_type": "code",
      "execution_count": 27,
      "metadata": {
        "id": "k46KA1OJk_pC",
        "colab": {
          "base_uri": "https://localhost:8080/",
          "height": 279
        },
        "outputId": "c38b91ff-5c34-4ea2-ec29-593c86e01174"
      },
      "outputs": [
        {
          "output_type": "display_data",
          "data": {
            "image/png": "[encoded data removed]",
            "text/plain": [
              "<Figure size 432x288 with 1 Axes>"
            ]
          },
          "metadata": {
            "needs_background": "light"
          }
        }
      ],
      "source": [
        "lossCurve(trainLosses,valLosses)"
      ]
    }
  ],
  "metadata": {
    "colab": {
      "collapsed_sections": [],
      "name": "hw2.ipynb",
      "provenance": []
    },
    "kernelspec": {
      "display_name": "Python 3",
      "name": "python3"
    },
    "language_info": {
      "name": "python"
    }
  },
  "nbformat": 4,
  "nbformat_minor": 0
}